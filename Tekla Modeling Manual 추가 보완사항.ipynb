{
 "cells": [
  {
   "cell_type": "markdown",
   "metadata": {},
   "source": [
    "# Tekla Modeling Manul 추가 보완사항\n",
    "***"
   ]
  },
  {
   "cell_type": "markdown",
   "metadata": {},
   "source": [
    "> 아현 푸르지오 모델링 프로젝트를 진행하면서 구조 Modeling Manual에 추가 될 수도 있는 사항에 대해서 정리하였다.   \n",
    "> *(2021-04-01)*"
   ]
  },
  {
   "cell_type": "markdown",
   "metadata": {},
   "source": [
    "### 1. 철근별 Class 지정\n",
    "+ 작업 중 Class 지정하는데 고민하게 된다."
   ]
  },
  {
   "cell_type": "markdown",
   "metadata": {},
   "source": [
    "### 2. 철근별 최대 길이\n",
    "+ D10, 13  ➜ 8m\n",
    "+ D16 이상 ➜ 10m"
   ]
  },
  {
   "cell_type": "markdown",
   "metadata": {},
   "source": [
    "### 3. Revit과 모델링(골조) 방법에 대한 협의 필요\n",
    "+ 헛보, 인방보\n",
    "+ 슬라브와 벽체"
   ]
  },
  {
   "cell_type": "markdown",
   "metadata": {},
   "source": [
    "### 4. User fields 의 내용 명시\n",
    "+ User field 1 = 동 (A동, B동)\n",
    "+ User field 2 = 층수 (B1F, 1F, PH1, PH2)\n",
    "+ User field 4 = 시공용 철근명 (DOWEL고정철근(기둥), 타설위치고정철근(기둥))"
   ]
  },
  {
   "cell_type": "markdown",
   "metadata": {},
   "source": [
    "### 5. 슬라브 두께 250mm 이상일 경우 Chairbar 배근 내용 기입\n",
    "+ 간격 1000, 시작간격 150"
   ]
  },
  {
   "cell_type": "markdown",
   "metadata": {},
   "source": [
    "### 6. 보 2단 보조근 그림 설명\n",
    "+ 텍스트만 보고 모델링 하기에 어려울 수 있다."
   ]
  },
  {
   "cell_type": "markdown",
   "metadata": {},
   "source": [
    "### 7. 타설위치 고정철근 기초-벽 밑 부분에 배근 내용"
   ]
  },
  {
   "cell_type": "markdown",
   "metadata": {},
   "source": [
    "### 8. Dowel Bar의 높이는 Dower Bar의 전체길이가 아니다.\n",
    "+ 그림 설명 필요"
   ]
  },
  {
   "cell_type": "markdown",
   "metadata": {},
   "source": [
    "### 9. 보강근의 연장길이가 12db or 유효춤(두께-피복두께) 내용\n",
    "+ 각각의 부재별 철근 배근을 설명할 때 연장길이를 추가"
   ]
  },
  {
   "cell_type": "markdown",
   "metadata": {},
   "source": [
    "### 10. 높이 300초과의 헛보는 STR이 2개의 UBAR와 2개의 수직근으로 배근\n",
    "+ 그림 설명 필요"
   ]
  },
  {
   "cell_type": "markdown",
   "metadata": {},
   "source": [
    "### 11. 슬라브가 비정형일 때 배근량이 많은 부분이 TOPX, BOTX"
   ]
  },
  {
   "cell_type": "markdown",
   "metadata": {},
   "source": [
    "### 12. MAT 하부근 90도 HOOK\n",
    "+ PPT의 내용을 문서에 추가"
   ]
  },
  {
   "cell_type": "markdown",
   "metadata": {},
   "source": [
    "### 13. 벽체 철근의 갯수가 층별로 달라질 때 Dower Bar 배근"
   ]
  },
  {
   "cell_type": "markdown",
   "metadata": {},
   "source": [
    "### 14. 계단 배근 정리 필요\n",
    "+ 도면만 보고 배근을 하기에는 무리가 있다. 각각의 철근이 어떻게 배근이 되는지 그림 설명 필요(모델링 방법을 고려해야 한다.)"
   ]
  },
  {
   "cell_type": "markdown",
   "metadata": {},
   "source": [
    "### 15. 지하층에서 지상 1F으로 기둥 끝날 때 철근 배근\n",
    "+ 마지막 수직근은 갈고리로 마무리"
   ]
  },
  {
   "cell_type": "markdown",
   "metadata": {},
   "source": [
    "### 16. 계단철근 이름과 슬라브 철근 이름이 같이 작업시 혼동\n",
    "+ TOPX, TOPY, BOTX, BOTY ➜ **TOPXS, TOPYS, BOTXS, BOTYS**"
   ]
  },
  {
   "cell_type": "markdown",
   "metadata": {},
   "source": [
    "### 17. 슬라브가 비정형일 때의 주근 배근 방법\n",
    "+ 그림 설명 필요"
   ]
  },
  {
   "cell_type": "markdown",
   "metadata": {},
   "source": [
    "### 18. 모델링 원칙을 작성\n",
    "+ 철근: 공장 가공 단계 기준으로 모델링\n",
    "+ 콘크리트: 중복없이 정확하게 모델링 하는 것이 원칙"
   ]
  }
 ],
 "metadata": {
  "kernelspec": {
   "display_name": "Python 3",
   "language": "python",
   "name": "python3"
  },
  "language_info": {
   "codemirror_mode": {
    "name": "ipython",
    "version": 3
   },
   "file_extension": ".py",
   "mimetype": "text/x-python",
   "name": "python",
   "nbconvert_exporter": "python",
   "pygments_lexer": "ipython3",
   "version": "3.8.5"
  }
 },
 "nbformat": 4,
 "nbformat_minor": 4
}
