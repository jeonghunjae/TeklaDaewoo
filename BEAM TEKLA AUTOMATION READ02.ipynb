{
 "cells": [
  {
   "cell_type": "markdown",
   "metadata": {
    "slideshow": {
     "slide_type": "slide"
    }
   },
   "source": [
    " # Tekla Modeling Ahyeon BEAM API AUTOMATION\n",
    "\n",
    "> 아현 푸르지오 모델링을 진행하면서 보 모델링을 자동화한 프로그램에 관한 설명서이다.\n",
    "> *(2021-04-08)*\n",
    "\n",
    "<img align=\"center\" src=\"beam automation 설명자료\\1day.png\" > \n",
    "<center><span style=\"color:gray\">단축된 BEAM 모델링 시간</span></center> \n",
    "\n",
    "# 1.Problem\n",
    "\n",
    "<img align=\"center\" src=\"beam automation 설명자료\\beam 조감.png\" > \n",
    "<center>\n",
    "<span style=\"color:gray\">막막하다...</span>\n",
    "</center>\n",
    "\n",
    "+ 일정하지 않은 SPAN 길이\n",
    "+ <span style=\"color:red\">450</span>개 이상의 BEAM 일람\n",
    "+ <span style=\"color:red\">1370</span>개 이상의 보\n",
    "\n",
    "### 👉 **모델링 시간 지연과 정확도 하락**"
   ]
  },
  {
   "cell_type": "markdown",
   "metadata": {
    "slideshow": {
     "slide_type": "slide"
    }
   },
   "source": [
    "# 2. Program 내용\n",
    "\n",
    "<img align=\"center\" src=\"beam automation 설명자료\\BEAM 큰틀.png\" >\n",
    "<center>\n",
    "<span style=\"color:gray\">BEAM Modeling 과정은 크게 일람DATA 추출과 MODELING으로 나뉜다.</span>\n",
    "</center>"
   ]
  },
  {
   "cell_type": "markdown",
   "metadata": {
    "slideshow": {
     "slide_type": "slide"
    }
   },
   "source": [
    "## 2.1 DATA 추출\n",
    "\n",
    "### 2.1.1 CAD 보 일람 DATA\n",
    "<img align=\"center\" src=\"beam automation 설명자료\\DATA추출GH.png\" >\n",
    "<center>\n",
    "<span style=\"color:gray\">CAD 보 일람 DATA 추출 Concept Diagram.</span>\n",
    "</center>"
   ]
  },
  {
   "cell_type": "markdown",
   "metadata": {
    "slideshow": {
     "slide_type": "slide"
    }
   },
   "source": [
    "### 2.1.2 Excel\n",
    "<img align=\"center\" src=\"beam automation 설명자료\\EXCELDiagram.png\" >\n",
    "<center>\n",
    "<span style=\"color:gray\">추출된 Excel DATA을 자동정리(서식 이용).</span>\n",
    "</center>"
   ]
  },
  {
   "cell_type": "markdown",
   "metadata": {
    "slideshow": {
     "slide_type": "slide"
    }
   },
   "source": [
    "## 2.2 MODELING\n",
    "\n",
    "### 2.1.1 전체 Modeling\n",
    "<img align=\"center\" src=\"beam automation 설명자료\\전체Modeling Diagram_01.png\" >\n",
    "\n",
    "+ 0˚ 정착 기본 배근(Modify에서 90˚ 수정)\n",
    "\n",
    "\n",
    "#### 2.1.1.1 ALL\n",
    "<center>\n",
    "<img align=\"center\" src=\"beam automation 설명자료\\전체Modeling Diagram_ALL.png\" >\n",
    "</center>\n",
    "<center>\n",
    "<span style=\"color:gray\">ALL 배근 Setting.</span>\n",
    "</center>"
   ]
  },
  {
   "cell_type": "markdown",
   "metadata": {
    "slideshow": {
     "slide_type": "slide"
    }
   },
   "source": [
    "#### 2.1.1.2 INT/CEN/EXT\n",
    "<center>\n",
    "<img align=\"center\" src=\"beam automation 설명자료\\전체Modeling Diagram_INTCENEXT.png\" >\n",
    "</center>\n",
    "<center>\n",
    "<span style=\"color:gray\">INT/CEN/EXT 배근 Setting.</span>\n",
    "</center>"
   ]
  },
  {
   "cell_type": "markdown",
   "metadata": {
    "slideshow": {
     "slide_type": "slide"
    }
   },
   "source": [
    "### 2.1.2 Modify\n",
    "<center>\n",
    "<img align=\"center\" src=\"beam automation 설명자료\\전체Modeling Diagram_Modify.png\" >\n",
    "</center>\n",
    "<center>\n",
    "<span style=\"color:gray\">INT/CEN/EXT 배근 Setting.</span>\n",
    "</center>"
   ]
  },
  {
   "cell_type": "markdown",
   "metadata": {
    "slideshow": {
     "slide_type": "slide"
    }
   },
   "source": [
    "# 3. How to Use\n",
    "\n",
    "## 3.1 DATA 추출\n",
    "\n",
    "### 3.1.1 CAD 보 일람 DATA\n",
    "### 2.1.2 Modify\n",
    "<center>\n",
    "<img align=\"center\" src=\"beam automation 설명자료\\GHDATA.png\" >\n",
    "</center>\n",
    "<center>\n",
    "<span style=\"color:gray\">Grasshopper를 이용한 Data 추출.</span>\n",
    "</center>\n",
    "\n",
    "### 3.1.2 Excel\n",
    "+ 해당 내용은 코드로 작성하여 추후 서식이나 프로그램으로 업데이트 예정"
   ]
  },
  {
   "cell_type": "markdown",
   "metadata": {
    "slideshow": {
     "slide_type": "slide"
    }
   },
   "source": [
    "## 3.2 MODELING"
   ]
  },
  {
   "cell_type": "markdown",
   "metadata": {
    "slideshow": {
     "slide_type": "slide"
    }
   },
   "source": [
    "### 3.1.1 전체 Modeling\n",
    "\n",
    "<center>\n",
    "<img align=\"center\" src=\"beam automation 설명자료\\HowtoModeling.png\" >\n",
    "</center>\n",
    "<center>\n",
    "<span style=\"color:gray\">보 기본 배근.</span>\n",
    "</center>\n",
    "\n",
    "**ALL/INT일 경우**\n",
    "1. ALL/INT 클릭\n",
    "2. TEKLA에서 보 부재 선택\n",
    "3. ALL/INT 철근 배근\n",
    "\n",
    "**EXT일 경우**\n",
    "1. EXTSTART or EXTEND 클릭\n",
    "2. TEKLA에서 보 부재 선택\n",
    "3. EXT 철근 배근\n",
    "\n",
    "**철근 배근 삭제**\n",
    "1. DELETE 클릭 \n",
    "2. TEKLA에서 보 부재 선택\n",
    "3. 철근 배근 삭제"
   ]
  },
  {
   "cell_type": "markdown",
   "metadata": {
    "slideshow": {
     "slide_type": "slide"
    }
   },
   "source": [
    "### 3.1.2 Modify\n",
    "\n",
    "<center>\n",
    "<img align=\"center\" src=\"beam automation 설명자료\\HowtoMIFY.png\" >\n",
    "</center>\n",
    "<center>\n",
    "<span style=\"color:gray\">보 배근 수정.</span>\n",
    "</center>\n",
    "\n",
    "**내부로 정착 길이 조정**\n",
    "1. InsideOffsetTo50 or InsideOffsetTo10 클릭\n",
    "2. TEKLA에서 해당 RebarGroup선택(Single Rebar일 경우 Program 오른쪽 Single Rebar Section에서 해당 버튼 선택)\n",
    "3. 부재 내부로 정착 길이 조정\n",
    "\n",
    "**90정착 각도 조정**\n",
    "1. 90Start or 90End or 90Both 클릭\n",
    "2. TEKLA에서 해당 RebarGroup or SingleRebar 선택\n",
    "3. 0→90 정착각도 조정\n",
    "\n",
    "**90HOOK 반전**\n",
    "1. -90Hook 클릭 \n",
    "2. TEKLA에서 해당 RebarGroup or SingleRebar 선택\n",
    "3. 90Hook 반전\n",
    "\n",
    "**BOT REBAR Split**\n",
    "1. SplitHalf 클릭 \n",
    "2. TEKLA에서 해당 RebarGroup or SingleRebar 선택\n",
    "3. 해당 철근 절반 Split\n",
    "\n",
    "**중간 늑근 생성**\n",
    "1. STRMiddle 클릭 \n",
    "2. TEKLA에서 해당 RebarGroup or SingleRebar 선택\n",
    "3. 중간 STR 생성"
   ]
  },
  {
   "cell_type": "code",
   "execution_count": null,
   "metadata": {},
   "outputs": [],
   "source": []
  }
 ],
 "metadata": {
  "celltoolbar": "Slideshow",
  "kernelspec": {
   "display_name": ".NET (C#)",
   "language": "C#",
   "name": ".net-csharp"
  },
  "language_info": {
   "file_extension": ".cs",
   "mimetype": "text/x-csharp",
   "name": "C#",
   "pygments_lexer": "csharp",
   "version": "8.0"
  }
 },
 "nbformat": 4,
 "nbformat_minor": 4
}
