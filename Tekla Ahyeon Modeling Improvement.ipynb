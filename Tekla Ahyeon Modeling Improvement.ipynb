{
 "cells": [
  {
   "cell_type": "markdown",
   "metadata": {},
   "source": [
    "# Tekla Ahyeon Modeling Improvement"
   ]
  },
  {
   "cell_type": "markdown",
   "metadata": {},
   "source": [
    "> 아현 푸르지오 모델링 진행 하면서 생산성을 향상 시키기 위해 필요한 것 또는 해결해 나갔던 과정을 기술하였다.\n",
    "> *(2021-04-06)*"
   ]
  },
  {
   "cell_type": "markdown",
   "metadata": {},
   "source": [
    "<img align=\"center\" src=\"rhino_6_com_1400x.webp\" width=\"150\" height=\"150\">\n",
    "<img align=\"center\" src=\"Tekla-OpenAPI.svg\" width=\"300\" height=\"300\">"
   ]
  },
  {
   "cell_type": "markdown",
   "metadata": {},
   "source": [
    "+ 사용프로그램\n",
    "\n",
    "1. Rhino6, Grasshopper\n",
    "2. Tekla API(Visual Studio)\n",
    "\n",
    "시각적으로 확인하면서 빠르게 만들기에는 GH가 적당하지만 몇가지 기술적 한계가 있어서 API로 직접 작성할 때가 효과적인 경우가 있다. 또한 API로 작성하면 독립적인 프로그램으로 만드는 것이 가능하기 때문에 RHINO6가 없어도 사용할 수 있는 장점이 있다. 😄"
   ]
  },
  {
   "cell_type": "markdown",
   "metadata": {},
   "source": [
    "# 1. User Fields와 BIMQ 코드\n",
    "\n",
    "Part에 IFC Data만 입력되어 있는 상황에서 RebarGroup의 속성과 Part,RebarGroup의 BIMQ 속성을 자동으로 넣을 수 있는 프로그램이다."
   ]
  },
  {
   "cell_type": "markdown",
   "metadata": {},
   "source": [
    "## 1.1 Problem\n",
    "+ Part에만 IFC Data가 입력되어 있는 상황\n",
    "+ RebarGroup은 Splice Component를 사용하면 User Fields가 초기화 되는 상황"
   ]
  },
  {
   "cell_type": "markdown",
   "metadata": {},
   "source": [
    "<img align=\"center\" src=\"Tekla응용 사진자료\\User Fields와 BIMQ 코드\\비어있는속성Part.png\" > \n",
    "<center>\n",
    "<span style=\"color:gray\">IFC에만 들어가 있는 PART의 Property Value</span>\n",
    "</center>  \n",
    "<img align=\"center\" src=\"Tekla응용 사진자료\\User Fields와 BIMQ 코드\\비어있는속성RebarGroup.png\" >\n",
    "<center>\n",
    "<span style=\"color:gray\">철근을 선택하기도 어렵고 개수가 많아 시간이 오래걸리는 작업, 또한 Splice를 진행하면 User Fields가 초기화된다.</span>\n",
    "</center>  "
   ]
  },
  {
   "cell_type": "markdown",
   "metadata": {},
   "source": [
    "## 1.2 Solution"
   ]
  },
  {
   "cell_type": "markdown",
   "metadata": {},
   "source": [
    "<img align=\"center\" src=\"Tekla응용 사진자료\\User Fields와 BIMQ 코드\\문제해결Diagram.png\" >\n",
    "<center>\n",
    "<span style=\"color:gray\">---</span>\n",
    "</center>  "
   ]
  },
  {
   "cell_type": "markdown",
   "metadata": {},
   "source": [
    "# 2. 계단의 골조와 RebarGroup\n",
    "\n",
    "계단의 골조와 RebarGroup 모델링이 어렵고 시간이 오래걸린다."
   ]
  },
  {
   "cell_type": "markdown",
   "metadata": {},
   "source": [
    "## 2.1 Problem\n",
    "+ 계단의 골조를 단면에서 모델링 해야하기 때문에 작업환경 속도, 모델링 속도 저하\n",
    "+ 계단의 철근을 배근하기에 각도가 "
   ]
  },
  {
   "cell_type": "markdown",
   "metadata": {},
   "source": [
    "## 2.2 Solution"
   ]
  },
  {
   "cell_type": "markdown",
   "metadata": {},
   "source": [
    "# 3. 정착 이음길이\n",
    "\n",
    "구체적인 예) 보 철근을 0도 정착에서 90도 정착으로 값을 수정 할 때 일일히 바꿔줘야 하는 문제점"
   ]
  },
  {
   "cell_type": "markdown",
   "metadata": {},
   "source": [
    "## 3.1 Problem\n",
    "+ 지하층 같이 복잡한 구조물을 필터 없이 전부 보았을 때 정착을 수정해야하는 경우."
   ]
  },
  {
   "cell_type": "markdown",
   "metadata": {},
   "source": [
    "## 3.2 Solution"
   ]
  },
  {
   "cell_type": "markdown",
   "metadata": {},
   "source": [
    "# 4. SD500 SD600 MAIN SUB\n",
    "\n",
    "철근의 설정은 기본적으로 상황마다 정해져 있지만 중간에 실수하는 경우가 있다. ->Organizer or API"
   ]
  },
  {
   "cell_type": "markdown",
   "metadata": {},
   "source": [
    "## 4.1 Problem\n",
    "+ 철근 설정 오류"
   ]
  },
  {
   "cell_type": "markdown",
   "metadata": {},
   "source": [
    "## 4.2 Solution"
   ]
  },
  {
   "cell_type": "markdown",
   "metadata": {},
   "source": [
    "# 5. RebarGroup 삭제\n",
    "\n",
    "철근 배근이 잘 못 되었을 때 각각을 선택하며 지우면 (부재가 많을 때) 실수하는 경우 Part만 선택해서 속하는 부재를 한번에 지울 수 있게 하였다."
   ]
  },
  {
   "cell_type": "markdown",
   "metadata": {},
   "source": [
    "## 5.1 Problem"
   ]
  },
  {
   "cell_type": "markdown",
   "metadata": {},
   "source": [
    "## 5.2 Solution"
   ]
  },
  {
   "cell_type": "markdown",
   "metadata": {},
   "source": [
    "# 6. 기둥 부분에 후프철근 비교(내진설계)시 \n",
    "\n",
    " Lo는 기둥의 장변길이, Lc/6, 450보다 큰 값인데 이 값들을 하나하나 비교하면서 모델링 하기에 시간이 오래걸리기 때문에..."
   ]
  },
  {
   "cell_type": "markdown",
   "metadata": {},
   "source": [
    "## 6.1 Problem"
   ]
  },
  {
   "cell_type": "markdown",
   "metadata": {},
   "source": [
    "## 6.2 Solution"
   ]
  },
  {
   "cell_type": "markdown",
   "metadata": {},
   "source": [
    "# 7. 시공용철근, 계단 철근\n",
    "\n",
    "계단, 시공용철근은 Copy Object로 하면 길이가 수정이 되어버리는데 이럴때는 Copy로 한다음 FaterPart만 바꿔주면 된다."
   ]
  },
  {
   "cell_type": "markdown",
   "metadata": {},
   "source": [
    "## 7.1 Problem"
   ]
  },
  {
   "cell_type": "markdown",
   "metadata": {},
   "source": [
    "## 7.2 Solution"
   ]
  },
  {
   "cell_type": "markdown",
   "metadata": {},
   "source": [
    "# 8. CUT-BAR 연속(일반슬래브)\n",
    "\n",
    "연속되는 경우에도 1/4을 구하고 추가되는 값을 넣기가 어려웠다. API로 해결"
   ]
  },
  {
   "cell_type": "markdown",
   "metadata": {},
   "source": [
    "## 8.1 Problem"
   ]
  },
  {
   "cell_type": "markdown",
   "metadata": {},
   "source": [
    "## 8.2 Solution"
   ]
  },
  {
   "cell_type": "markdown",
   "metadata": {},
   "source": [
    "# 9. 보의 Stirrup 범위\n",
    "\n",
    "내진설계시 보는 보 춤x2의 거리를 양단부의 간격이 좁아지고 50mm이격되기 때문에 이를 하나하나 구하기 어렵고, 내진설계가 아니더라도 스터럽 L1x0.25길이를 계속 구해야하기 때문에 그것도 모델링이 어렵다. 이를 API를 이용해서 해결했다."
   ]
  },
  {
   "cell_type": "markdown",
   "metadata": {},
   "source": [
    "## 9.1 Problem"
   ]
  },
  {
   "cell_type": "markdown",
   "metadata": {},
   "source": [
    "## 9.2 Solution"
   ]
  },
  {
   "cell_type": "markdown",
   "metadata": {},
   "source": [
    "# 10. 헛보 모델링\n",
    "\n",
    "헛보는 사실 대부분이 배근이 같기 때문에 COPY OBJECT로 해도 괜찮지만 가끔 오류가 생기는 경우가 있다. 이것도 API로 해결 OR SIDD?"
   ]
  },
  {
   "cell_type": "markdown",
   "metadata": {},
   "source": [
    "## 10.1 Problem"
   ]
  },
  {
   "cell_type": "markdown",
   "metadata": {},
   "source": [
    "## 10.2 Solution"
   ]
  },
  {
   "cell_type": "markdown",
   "metadata": {},
   "source": [
    "# 11. 사보강근(벽체)\n",
    "\n",
    "사보강근 배근할때 수직근과 동일길이로 배근해야하는게 어려운걸 GH로.. 근데 나는 45도로 그냥 한것 같은데.."
   ]
  },
  {
   "cell_type": "markdown",
   "metadata": {},
   "source": [
    "## 11.1 Problem"
   ]
  },
  {
   "cell_type": "markdown",
   "metadata": {},
   "source": [
    "## 11.2 Solution"
   ]
  },
  {
   "cell_type": "markdown",
   "metadata": {},
   "source": [
    "# 12. 타설위치고정철근(벽체)\n",
    "\n",
    "타설위치 고정철근의 길이는 결국 벽체길이와 같기 때문에 벽체 길이 그대로 배근 + 이음길이 줘야, 실제 현장에서는 장철로 배근할 것 같은데."
   ]
  },
  {
   "cell_type": "markdown",
   "metadata": {},
   "source": [
    "## 12.1 Problem"
   ]
  },
  {
   "cell_type": "markdown",
   "metadata": {},
   "source": [
    "## 12.2 Solution"
   ]
  },
  {
   "cell_type": "markdown",
   "metadata": {},
   "source": [
    "# 13. DOWEL지지철근(기둥)\n",
    "\n",
    "Dower바의 길이대로 3면에 계산해서 모델링 하기 어려운데 GH를 활용하여 해결"
   ]
  },
  {
   "cell_type": "markdown",
   "metadata": {},
   "source": [
    "## 13.1 Problem"
   ]
  },
  {
   "cell_type": "markdown",
   "metadata": {},
   "source": [
    "## 13.2 Solution"
   ]
  },
  {
   "cell_type": "markdown",
   "metadata": {},
   "source": [
    "# 14. 보조후프(TIE)\n",
    "\n",
    "기존에는 보조후프를 개수만큼 Copy를 해주어야 했고, 2/Smm간격으로 가는 부분과 Smm로 가는 부분이 기둥마다 달라서 Copy Object가 어려웠다. 하지만  API로 보조후프 개수와 간격을 정해주면 만들 수 있다. 두 방향으로"
   ]
  },
  {
   "cell_type": "markdown",
   "metadata": {},
   "source": [
    "## 14.1 Problem"
   ]
  },
  {
   "cell_type": "markdown",
   "metadata": {},
   "source": [
    "## 14.2 Solution"
   ]
  },
  {
   "cell_type": "markdown",
   "metadata": {},
   "source": [
    "# 15. 상부근(보)\n",
    "\n",
    "보 자동배치후 외단부분에서 90도 갈고리로 수정되고 이에 맞는 정착길이가 들어가도록 API"
   ]
  },
  {
   "cell_type": "markdown",
   "metadata": {},
   "source": [
    "## 15.1 Problem"
   ]
  },
  {
   "cell_type": "markdown",
   "metadata": {},
   "source": [
    "## 15.2 Solution"
   ]
  },
  {
   "cell_type": "markdown",
   "metadata": {},
   "source": [
    "# 16. 하부근(보)\n",
    "\n",
    "보 양쪽 90도 후크 상부근 하부근 SPLIT을 중간에서 하고 가운데 이음 정착길이 넣는 것이 오래걸린다."
   ]
  },
  {
   "cell_type": "markdown",
   "metadata": {},
   "source": [
    "## 16.1 Problem"
   ]
  },
  {
   "cell_type": "markdown",
   "metadata": {},
   "source": [
    "## 16.2 Solution"
   ]
  },
  {
   "cell_type": "markdown",
   "metadata": {},
   "source": [
    "# 17. 수직근(지하외벽)\n",
    "\n",
    "지하외벽의 피복두께가 내측과 외측이 바뀌는데 이를 내부 Pt를 잡으면 외부와 내부를 구분해 피복두께 값을 설정할 수 있다."
   ]
  },
  {
   "cell_type": "markdown",
   "metadata": {},
   "source": [
    "## 17.1 Problem"
   ]
  },
  {
   "cell_type": "markdown",
   "metadata": {},
   "source": [
    "## 17.2 Solution"
   ]
  },
  {
   "cell_type": "markdown",
   "metadata": {},
   "source": [
    "# 18. 수직보강근(지하외벽)\n",
    "\n",
    "CHAIRBAR가 두께에 따라 달라지는데 GH로 만들어 놓으면 편하지 않을까? / - Component 기초부분은 생성X, 슬라브는?"
   ]
  },
  {
   "cell_type": "markdown",
   "metadata": {},
   "source": [
    "## 18.1 Problem"
   ]
  },
  {
   "cell_type": "markdown",
   "metadata": {},
   "source": [
    "## 18.2 Solution"
   ]
  },
  {
   "cell_type": "markdown",
   "metadata": {},
   "source": [
    "# 19. 타설위치고정철근(지하외벽)\n",
    "\n",
    "CHAIRBAR가 두께에 따라 달라지는데 GH로 만들어 놓으면 편하지 않을까? / - Component 기초부분은 생성X, 슬라브는?"
   ]
  },
  {
   "cell_type": "markdown",
   "metadata": {},
   "source": [
    "## 19.1 Problem"
   ]
  },
  {
   "cell_type": "markdown",
   "metadata": {},
   "source": [
    "## 19.2 Solution"
   ]
  },
  {
   "cell_type": "markdown",
   "metadata": {},
   "source": [
    "# 20. 상부근 하부근 XY(일반슬래브)\n",
    "\n",
    "X,Y방향을 전부 구해서 하는게 어렵다. API로 해결"
   ]
  },
  {
   "cell_type": "markdown",
   "metadata": {},
   "source": [
    "## 20.1 Problem"
   ]
  },
  {
   "cell_type": "markdown",
   "metadata": {},
   "source": [
    "## 20.2 Solution"
   ]
  },
  {
   "cell_type": "markdown",
   "metadata": {},
   "source": [
    "# 21. CUT-BAR(일반슬래브)\n",
    "\n",
    "중간부분과 슬라브 자체의 외단부분이 있는데 Span의 1/4 길이를 구하는게 어렵다. 이를 API로 자동화 하였다."
   ]
  },
  {
   "cell_type": "markdown",
   "metadata": {},
   "source": [
    "## 21.1 Problem"
   ]
  },
  {
   "cell_type": "markdown",
   "metadata": {},
   "source": [
    "## 21.2 Solution"
   ]
  }
 ],
 "metadata": {
  "kernelspec": {
   "display_name": ".NET (C#)",
   "language": "C#",
   "name": ".net-csharp"
  },
  "language_info": {
   "file_extension": ".cs",
   "mimetype": "text/x-csharp",
   "name": "C#",
   "pygments_lexer": "csharp",
   "version": "8.0"
  }
 },
 "nbformat": 4,
 "nbformat_minor": 4
}
